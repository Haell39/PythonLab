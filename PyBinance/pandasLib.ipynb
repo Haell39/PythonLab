{
 "cells": [
  {
   "cell_type": "code",
   "id": "initial_id",
   "metadata": {
    "collapsed": true,
    "ExecuteTime": {
     "end_time": "2024-12-26T20:40:36.739126Z",
     "start_time": "2024-12-26T20:40:34.490933Z"
    }
   },
   "source": [
    "''''Pandas Series'''''\n",
    "# Panda series is a 1D data structure -> Similar to a column in a table\n",
    "import pandas as pd\n",
    "x = ['a','b','c','d','E']\n",
    "data_series = pd.Series(x)\n",
    "print(data_series)"
   ],
   "outputs": [
    {
     "name": "stdout",
     "output_type": "stream",
     "text": [
      "0    a\n",
      "1    b\n",
      "2    c\n",
      "3    d\n",
      "4    E\n",
      "dtype: object\n"
     ]
    }
   ],
   "execution_count": 1
  },
  {
   "cell_type": "code",
   "id": "85c5efc3",
   "metadata": {
    "ExecuteTime": {
     "end_time": "2024-12-26T20:43:04.543112Z",
     "start_time": "2024-12-26T20:43:04.538504Z"
    }
   },
   "source": [
    "import pandas as pd\n",
    "\n",
    "x = ['a','b','c','d','E']\n",
    "series = pd.Series(x, index=['A','B','C','D','E'])\n",
    "print(series)\n",
    "print(series['B'])"
   ],
   "outputs": [
    {
     "name": "stdout",
     "output_type": "stream",
     "text": [
      "A    a\n",
      "B    b\n",
      "C    c\n",
      "D    d\n",
      "E    E\n",
      "dtype: object\n",
      "b\n"
     ]
    }
   ],
   "execution_count": 3
  },
  {
   "metadata": {
    "ExecuteTime": {
     "end_time": "2024-12-26T20:59:42.000965Z",
     "start_time": "2024-12-26T20:59:41.995452Z"
    }
   },
   "cell_type": "code",
   "source": [
    "'''Pandas data frames'''\n",
    "# A data frame is a 2D data structure -> Similar to a table\n",
    "import pandas as fofo # You can use any name you want\n",
    "dict = {\n",
    "    'Name': ['Rael', 'Ruth', 'Roman', 'Raphael'],\n",
    "    'Age': [23,24,25,26]\n",
    "}\n",
    "df = fofo.DataFrame(dict, index=['Name1', 'Name2', 'Name3', 'Name4'])\n",
    "print(df)\n"
   ],
   "id": "e377f966943aa579",
   "outputs": [
    {
     "name": "stdout",
     "output_type": "stream",
     "text": [
      "          Name  Age\n",
      "Name1     Rael   23\n",
      "Name2     Ruth   24\n",
      "Name3    Roman   25\n",
      "Name4  Raphael   26\n"
     ]
    }
   ],
   "execution_count": 6
  },
  {
   "metadata": {
    "ExecuteTime": {
     "end_time": "2024-12-26T21:01:59.299082Z",
     "start_time": "2024-12-26T21:01:59.292230Z"
    }
   },
   "cell_type": "code",
   "source": [
    "import pandas as pd\n",
    "\n",
    "dict = {\n",
    "    'Name': ['Rael', 'Ruth', 'Roman', 'Raphael'],\n",
    "    'Age': [23,24,25,26],\n",
    "    'College': ['JKUAT', 'UoN', 'KU', 'Moi'],\n",
    "    'Course': ['IT', 'Medicine', 'Engineering', 'Law']\n",
    "}\n",
    "\n",
    "df = pd.DataFrame(dict)\n",
    "print(df)"
   ],
   "id": "c170fabc5e8ddaff",
   "outputs": [
    {
     "name": "stdout",
     "output_type": "stream",
     "text": [
      "      Name  Age College       Course\n",
      "0     Rael   23   JKUAT           IT\n",
      "1     Ruth   24     UoN     Medicine\n",
      "2    Roman   25      KU  Engineering\n",
      "3  Raphael   26     Moi          Law\n"
     ]
    }
   ],
   "execution_count": 8
  },
  {
   "metadata": {
    "ExecuteTime": {
     "end_time": "2024-12-26T21:29:55.687529Z",
     "start_time": "2024-12-26T21:29:55.680036Z"
    }
   },
   "cell_type": "code",
   "source": [
    "\n",
    "5 + 9\n"
   ],
   "id": "65edf66d2c9f8451",
   "outputs": [
    {
     "data": {
      "text/plain": [
       "14"
      ]
     },
     "execution_count": 26,
     "metadata": {},
     "output_type": "execute_result"
    }
   ],
   "execution_count": 26
  },
  {
   "metadata": {
    "ExecuteTime": {
     "end_time": "2024-12-26T21:49:42.162921Z",
     "start_time": "2024-12-26T21:49:42.148142Z"
    }
   },
   "cell_type": "code",
   "source": [
    "print('======Selecting a specific column from the data frame======')\n",
    "print('\\n')\n",
    "dict = {\n",
    "    'Name': ['Rael', 'Ruth', 'Roman', 'Raphael'],\n",
    "    'Age': [23,24,25,26],\n",
    "    'College': ['JKUAT', 'UoN', 'KU', 'Moi'],\n",
    "    'Course': ['IT', 'Medicine', 'Engineering', 'Law']\n",
    "}\n",
    "\n",
    "x = df.Course\n",
    "y = df['Course']\n",
    "z = df[['Course']] # I like more this one\n",
    "print(x)\n",
    "print('\\n')\n",
    "print(y)\n",
    "print('\\n')\n",
    "print(z)\n",
    "print('\\n')\n",
    "\n",
    "\n",
    "print('======Selecting a specific row from the data frame======')\n",
    "print('\\n')\n",
    "p = df.loc[[0,1,2,3]]\n",
    "t = df.loc[0]\n",
    "print(p)\n",
    "print('\\n')\n",
    "print(t)\n",
    "print('\\n')\n",
    "\n",
    "print('======Selecting rows by column values======')\n",
    "print('\\n')\n",
    "q = df.loc[df.Age >= 20]\n",
    "print(q)\n",
    "print('\\n')\n",
    "d = df.loc[df.Age >= 20]['Name']\n",
    "print(d)\n",
    "print('\\n')\n",
    "b = df.loc[df.Age >= 20]['Course']\n",
    "print(b)\n",
    "print('\\n')\n",
    "h = df.loc[df.Age >= 20]['College']\n",
    "print(h)\n",
    "print('\\n')\n",
    "n = df.loc[df.Age >= 20]['Age']\n",
    "print(n)\n",
    "\n",
    "print('\\n')\n",
    "print('======Iterating columns in data frame======')\n",
    "print('\\n')\n",
    "\n",
    "for i in df.index:\n",
    "    print(df.Name[i])\n",
    "print('\\n')\n",
    "for i in df.index:\n",
    "    print(df.College[i])\n",
    "print('\\n')\n",
    "for i in df.index:\n",
    "    print(df.Course[i])"
   ],
   "id": "b8deaebd03d03a5b",
   "outputs": [
    {
     "name": "stdout",
     "output_type": "stream",
     "text": [
      "======Selecting a specific column from the data frame======\n",
      "\n",
      "\n",
      "0             IT\n",
      "1       Medicine\n",
      "2    Engineering\n",
      "3            Law\n",
      "Name: Course, dtype: object\n",
      "\n",
      "\n",
      "0             IT\n",
      "1       Medicine\n",
      "2    Engineering\n",
      "3            Law\n",
      "Name: Course, dtype: object\n",
      "\n",
      "\n",
      "        Course\n",
      "0           IT\n",
      "1     Medicine\n",
      "2  Engineering\n",
      "3          Law\n",
      "\n",
      "\n",
      "======Selecting a specific row from the data frame======\n",
      "\n",
      "\n",
      "      Name  Age College       Course\n",
      "0     Rael   23   JKUAT           IT\n",
      "1     Ruth   24     UoN     Medicine\n",
      "2    Roman   25      KU  Engineering\n",
      "3  Raphael   26     Moi          Law\n",
      "\n",
      "\n",
      "Name        Rael\n",
      "Age           23\n",
      "College    JKUAT\n",
      "Course        IT\n",
      "Name: 0, dtype: object\n",
      "\n",
      "\n",
      "======Selecting rows by column values======\n",
      "\n",
      "\n",
      "      Name  Age College       Course\n",
      "0     Rael   23   JKUAT           IT\n",
      "1     Ruth   24     UoN     Medicine\n",
      "2    Roman   25      KU  Engineering\n",
      "3  Raphael   26     Moi          Law\n",
      "\n",
      "\n",
      "0       Rael\n",
      "1       Ruth\n",
      "2      Roman\n",
      "3    Raphael\n",
      "Name: Name, dtype: object\n",
      "\n",
      "\n",
      "0             IT\n",
      "1       Medicine\n",
      "2    Engineering\n",
      "3            Law\n",
      "Name: Course, dtype: object\n",
      "\n",
      "\n",
      "0    JKUAT\n",
      "1      UoN\n",
      "2       KU\n",
      "3      Moi\n",
      "Name: College, dtype: object\n",
      "\n",
      "\n",
      "0    23\n",
      "1    24\n",
      "2    25\n",
      "3    26\n",
      "Name: Age, dtype: int64\n",
      "\n",
      "\n",
      "======Iterating columns in data frame======\n",
      "\n",
      "\n",
      "Rael\n",
      "Ruth\n",
      "Roman\n",
      "Raphael\n",
      "\n",
      "\n",
      "JKUAT\n",
      "UoN\n",
      "KU\n",
      "Moi\n",
      "\n",
      "\n",
      "IT\n",
      "Medicine\n",
      "Engineering\n",
      "Law\n"
     ]
    }
   ],
   "execution_count": 48
  }
 ],
 "metadata": {
  "kernelspec": {
   "display_name": "Python 3",
   "language": "python",
   "name": "python3"
  },
  "language_info": {
   "codemirror_mode": {
    "name": "ipython",
    "version": 3
   },
   "file_extension": ".py",
   "mimetype": "text/x-python",
   "name": "python",
   "nbconvert_exporter": "python",
   "pygments_lexer": "ipython3",
   "version": "3.12.4"
  }
 },
 "nbformat": 4,
 "nbformat_minor": 5
}
