{
 "cells": [
  {
   "cell_type": "code",
   "execution_count": null,
   "metadata": {},
   "outputs": [],
   "source": [
    "import requests\n",
    "import pandas as pd\n",
    "\n",
    "# URL da API que retorna uma lista de posts\n",
    "url = \"https://jsonplaceholder.typicode.com/posts\"\n",
    "\n",
    "# Fazendo a requisição GET para a API\n",
    "response = requests.get(url)\n",
    "\n",
    "# Verificando se a requisição foi bem-sucedida\n",
    "if response.status_code == 200:\n",
    "    # Convertendo a resposta JSON para um dicionário Python\n",
    "    data = response.json()\n",
    "\n",
    "    # Criando um DataFrame do pandas a partir dos dados\n",
    "    df = pd.DataFrame(data)\n",
    "\n",
    "    # Exibindo os primeiros 5 registros do DataFrame\n",
    "    display(df.head())\n",
    "else:\n",
    "    print(f\"Erro na requisição: {response.status_code}\")\n"
   ]
  }
 ],
 "metadata": {
  "kernelspec": {
   "display_name": "VENV",
   "language": "python",
   "name": "python3"
  },
  "language_info": {
   "name": "python",
   "version": "3.12.7"
  }
 },
 "nbformat": 4,
 "nbformat_minor": 2
}
