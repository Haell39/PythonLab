{
 "cells": [
  {
   "cell_type": "code",
   "execution_count": null,
   "metadata": {},
   "outputs": [
    {
     "name": "stdout",
     "output_type": "stream",
     "text": [
      "[10, 20, 30, 40]\n",
      "[10, 20, 30, 40, 50, 60, 70]\n",
      "[5, 10, 20, 30, 40, 50, 60, 70]\n",
      "[5, 10, 20, 30, 40, 50, 60, 45, 70]\n",
      "[5, 10, 20, 30, 40, 50, 60, 45]\n",
      "[10, 20, 30, 40, 50, 60, 45]\n"
     ]
    }
   ],
   "source": [
    "a = [10, 20, 30]\n",
    "\n",
    "# modifying elements to the list\n",
    "\n",
    "a.append(40)\n",
    "print(a)\n",
    "\n",
    "a.extend([50, 60, 70])\n",
    "print(a)\n",
    "\n",
    "a.insert(0, 5) # insert 5 at index 0\n",
    "print(a)\n",
    "\n",
    "a.insert(-1, 45) # insert 45 at index -1\n",
    "print(a)\n",
    "\n",
    "a.remove(70)\n",
    "print(a)\n",
    "\n",
    "a.pop(0)  # remove element at index 0\n",
    "print(a)\n"
   ]
  },
  {
   "cell_type": "code",
   "execution_count": 10,
   "metadata": {},
   "outputs": [
    {
     "name": "stdout",
     "output_type": "stream",
     "text": [
      "[1, 'apple', 3.14, False]\n",
      "[5, 8, 'VSCode', 2.78]\n",
      "[2, 2, 2, 2, 2]\n"
     ]
    }
   ],
   "source": [
    "\"\"\"Creating Lists\"\"\"\n",
    "\n",
    "a = [1, 'apple', 3.14, False]\n",
    "print(a)\n",
    "\n",
    "a = list((5, 8, 'VSCode', 2.78))\n",
    "print(a)\n",
    "\n",
    "c = [2] * 5\n",
    "print(c)"
   ]
  },
  {
   "cell_type": "code",
   "execution_count": null,
   "metadata": {},
   "outputs": [
    {
     "name": "stdout",
     "output_type": "stream",
     "text": [
      "30\n",
      "90\n",
      "[30, 40, 50]\n",
      "[30, 40, 50, 60, 70, 80, 90]\n",
      "[10, 20, 30, 40, 50, 60, 70, 80, 90]\n",
      "[10, 30, 50, 70, 90]\n",
      "[90, 80, 70, 60, 50, 40, 30, 20, 10]\n",
      "[30, 50, 70]\n",
      "[80, 70, 60, 50, 40]\n",
      "[10, 20, 30, 40, 50]\n",
      "[10, 20, 30, 40]\n"
     ]
    }
   ],
   "source": [
    "\"\"\"Accessing Elements\"\"\"\n",
    "\n",
    "a = [10, 20, 30, 40, 50, 60, 70, 80, 90]\n",
    "\n",
    "print(a[2])\n",
    "print(a[-1]) # last element\n",
    "print(a[2:5]) # start, end -> starts at index 2 end at index 4 (5-1)\n",
    "print(a[2:]) # start to the end -> starts at index 2\n",
    "print(a[:]) # print the full list\n",
    "print(a[::2]) # prints the elements 2 by 2 if we have 1 2 3 4 5 6 -> 1 3 5\n",
    "print(a[::-1]) # reverse the list\n",
    "print(a[2:7:2]) # start, end, step\n",
    "print(a[7:2:-1]) # starts at index 7 and goes to index 2 with step -1\n",
    "print(a[:5]) # start at 0 to end -> ends at index 4 (5-1)\n",
    "print(a[:-5]) # ???\n"
   ]
  },
  {
   "cell_type": "code",
   "execution_count": null,
   "metadata": {},
   "outputs": [
    {
     "name": "stdout",
     "output_type": "stream",
     "text": [
      "[10, 20, 30, 77, 50, 60, 70, 80, 90]\n",
      "[10, 20, 88, 99, 50, 60, 70, 80, 90]\n",
      "[10, 20, 55, 66, 77, 50, 60, 70, 80, 90]\n",
      "[10, 20, 44, 77, 50, 60, 70, 80, 90]\n"
     ]
    }
   ],
   "source": [
    "\"\"\"Updating elements into list\"\"\"\n",
    "\n",
    "a = [10, 20, 30, 40, 50, 60, 70, 80, 90]\n",
    "a[3] = 77\n",
    "print(a)\n",
    "\n",
    "a[2:4] = [88, 99] # replace elements from index 2 to 4 (therefor elements at index 2 and 3)\n",
    "print(a)\n",
    "\n",
    "a[2:4] = [55, 66, 77] # places element 77 between 55 and 66 indexes 2 and 44\n",
    "print(a) "
   ]
  },
  {
   "cell_type": "code",
   "execution_count": 29,
   "metadata": {},
   "outputs": [
    {
     "name": "stdout",
     "output_type": "stream",
     "text": [
      "[10, 20, 30, 40, 50, 60, 70, 80]\n",
      "removed the element at index 2 -> 30\n",
      "[10, 20, 40, 50, 60, 70, 80]\n",
      "popped element: 80\n"
     ]
    }
   ],
   "source": [
    "\"\"\"Removing elements\"\"\"\n",
    "\n",
    "a = [10, 20, 30, 40, 50, 60, 70, 80, 90]\n",
    "\n",
    "del a[-1]\n",
    "print(a)\n",
    "\n",
    "a.remove(30)\n",
    "print(f'removed the element at index {2} -> {30}')\n",
    "print(a)\n",
    "\n",
    "\n",
    "popped_val = a.pop(6)\n",
    "print(f'popped element: {popped_val}')"
   ]
  },
  {
   "cell_type": "code",
   "execution_count": 1,
   "metadata": {},
   "outputs": [
    {
     "name": "stdout",
     "output_type": "stream",
     "text": [
      "apple\n",
      "banana\n",
      "cherry\n",
      "date\n",
      "elderberry\n"
     ]
    }
   ],
   "source": [
    "\"\"\"Iterating Over Lists\"\"\"\n",
    "\n",
    "a = ['apple', 'banana', 'cherry', 'date', 'elderberry']\n",
    "\n",
    "for i in a:\n",
    "    print(i)"
   ]
  },
  {
   "cell_type": "code",
   "execution_count": 4,
   "metadata": {},
   "outputs": [
    {
     "name": "stdout",
     "output_type": "stream",
     "text": [
      "6\n",
      "7\n",
      "1\n"
     ]
    }
   ],
   "source": [
    "\"\"\"Nested Lists in Python\"\"\"\n",
    "\n",
    "matrix = [\n",
    "    [1, 2, 3],\n",
    "    [4, 5, 6],\n",
    "    [7, 8, 9]\n",
    "]\n",
    "\n",
    "#Accessing the elements of the matrix:\n",
    "\n",
    "print(matrix[1][2]) # --> row 2 column 3 => 6\n",
    "print(matrix[2][0]) # --> row 3 column 1 => 7\n",
    "print(matrix[0][0]) # --> row 1 column 1 => 1"
   ]
  },
  {
   "cell_type": "code",
   "execution_count": null,
   "metadata": {},
   "outputs": [],
   "source": []
  }
 ],
 "metadata": {
  "kernelspec": {
   "display_name": "Python 3",
   "language": "python",
   "name": "python3"
  },
  "language_info": {
   "codemirror_mode": {
    "name": "ipython",
    "version": 3
   },
   "file_extension": ".py",
   "mimetype": "text/x-python",
   "name": "python",
   "nbconvert_exporter": "python",
   "pygments_lexer": "ipython3",
   "version": "3.11.0"
  }
 },
 "nbformat": 4,
 "nbformat_minor": 2
}
