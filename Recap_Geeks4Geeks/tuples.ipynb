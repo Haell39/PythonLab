{
 "cells": [
  {
   "cell_type": "code",
   "execution_count": 4,
   "metadata": {},
   "outputs": [
    {
     "name": "stdout",
     "output_type": "stream",
     "text": [
      "()\n",
      "('python', 'java')\n",
      "(1, 2, 3, 4, 5)\n",
      "('p', 'y', 't', 'h', 'o', 'n', '1', '0')\n"
     ]
    }
   ],
   "source": [
    "\"\"\"Creating a Tuple\"\"\"\n",
    "\n",
    "tup = ()\n",
    "print(tup)\n",
    "\n",
    "# using String\n",
    "tup1 = ('python','java')\n",
    "print(tup1)\n",
    "\n",
    "# using List\n",
    "li = [1,2,3,4,5]\n",
    "print(tuple(li))\n",
    "\n",
    "# using built-in function\n",
    "tup2 = tuple('python10')\n",
    "print(tup2)"
   ]
  }
 ],
 "metadata": {
  "kernelspec": {
   "display_name": "Python 3",
   "language": "python",
   "name": "python3"
  },
  "language_info": {
   "codemirror_mode": {
    "name": "ipython",
    "version": 3
   },
   "file_extension": ".py",
   "mimetype": "text/x-python",
   "name": "python",
   "nbconvert_exporter": "python",
   "pygments_lexer": "ipython3",
   "version": "3.11.0"
  }
 },
 "nbformat": 4,
 "nbformat_minor": 2
}
